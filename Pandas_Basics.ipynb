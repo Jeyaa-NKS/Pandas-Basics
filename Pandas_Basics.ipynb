{
  "nbformat": 4,
  "nbformat_minor": 0,
  "metadata": {
    "colab": {
      "provenance": [],
      "authorship_tag": "ABX9TyPo/v+OyT5ghmEH1A3xwvo6",
      "include_colab_link": true
    },
    "kernelspec": {
      "name": "python3",
      "display_name": "Python 3"
    },
    "language_info": {
      "name": "python"
    }
  },
  "cells": [
    {
      "cell_type": "markdown",
      "metadata": {
        "id": "view-in-github",
        "colab_type": "text"
      },
      "source": [
        "<a href=\"https://colab.research.google.com/github/Jeyaa-NKS/Pandas-Basics/blob/main/Pandas_Basics.ipynb\" target=\"_parent\"><img src=\"https://colab.research.google.com/assets/colab-badge.svg\" alt=\"Open In Colab\"/></a>"
      ]
    },
    {
      "cell_type": "code",
      "execution_count": null,
      "metadata": {
        "colab": {
          "base_uri": "https://localhost:8080/"
        },
        "id": "XodLjlmV-Mfg",
        "outputId": "1b87025d-568f-4b80-9a7e-840c501c30ce"
      },
      "outputs": [
        {
          "output_type": "stream",
          "name": "stdout",
          "text": [
            "    X   Y   Z\n",
            "0  34  95  16\n",
            "1  76  35  74\n",
            "2  43  36  87\n",
            "3  84  28  63\n",
            "4  23  56  41\n"
          ]
        }
      ],
      "source": [
        "#Problem 1\n",
        "\n",
        "import pandas as pd\n",
        "df = pd.DataFrame({'X':[34,76,43,84,23], 'Y':[95,35,36,28,56],'Z':[16,74,87,63,41,]});\n",
        "print(df)"
      ]
    },
    {
      "cell_type": "code",
      "source": [
        "#Problem 2\n",
        "import pandas as pd\n",
        "import numpy as np\n",
        "\n",
        "data = {'Name':['Portia', 'Antony', 'Lucifer', 'Jane'],\n",
        "        'Age':[27, 24, 22, 32],\n",
        "        'Address':['California', 'Los Aangeles', 'New York', 'Warsaw'],\n",
        "        'Qualification':['MS', 'MA', 'MCA', 'Phd']}\n",
        "df = pd.DataFrame(data )\n",
        "print(df)"
      ],
      "metadata": {
        "colab": {
          "base_uri": "https://localhost:8080/"
        },
        "id": "bRmMODVRBSFD",
        "outputId": "36a1d157-7d2d-4297-9926-6e90002f6e0d"
      },
      "execution_count": null,
      "outputs": [
        {
          "output_type": "stream",
          "name": "stdout",
          "text": [
            "      Name  Age       Address Qualification\n",
            "0   Portia   27    California            MS\n",
            "1   Antony   24  Los Aangeles            MA\n",
            "2  Lucifer   22      New York           MCA\n",
            "3     Jane   32        Warsaw           Phd\n"
          ]
        }
      ]
    },
    {
      "cell_type": "code",
      "source": [
        "#Problem 3\n",
        "import pandas as pd\n",
        "import numpy as np\n",
        "data = {'Name':['Portia', 'Antony', 'Lucifer', 'Jane'],\n",
        "        'Age':[27, 24, 22, 32],\n",
        "        'Address':['California', 'Los Aangeles', 'New York', 'Warsaw'],\n",
        "        'Qualification':['MS', 'MA', 'MCA', 'Phd']}\n",
        "df = pd.DataFrame(data)\n",
        "print(\"Summary of the basic information about this DataFrame and its data:\")\n",
        "print(df.info())\n",
        "\n"
      ],
      "metadata": {
        "colab": {
          "base_uri": "https://localhost:8080/"
        },
        "id": "tPEF0VFrEkXK",
        "outputId": "6742fb1a-15ec-4e65-c851-7f4d01df8f32"
      },
      "execution_count": null,
      "outputs": [
        {
          "output_type": "stream",
          "name": "stdout",
          "text": [
            "Summary of the basic information about this DataFrame and its data:\n",
            "<class 'pandas.core.frame.DataFrame'>\n",
            "RangeIndex: 4 entries, 0 to 3\n",
            "Data columns (total 4 columns):\n",
            " #   Column         Non-Null Count  Dtype \n",
            "---  ------         --------------  ----- \n",
            " 0   Name           4 non-null      object\n",
            " 1   Age            4 non-null      int64 \n",
            " 2   Address        4 non-null      object\n",
            " 3   Qualification  4 non-null      object\n",
            "dtypes: int64(1), object(3)\n",
            "memory usage: 256.0+ bytes\n",
            "None\n"
          ]
        }
      ]
    },
    {
      "cell_type": "code",
      "source": [
        "#PROBLEM 4\n",
        "import pandas as pd\n",
        "import numpy as np\n",
        "data = {'Name':['Portia', 'Antony', 'Lucifer', 'Jane'],\n",
        "        'Age':[27, 24, 22, 32],\n",
        "        'Address':['California', 'Los Aangeles', 'New York', 'Warsaw'],\n",
        "        'Qualification':['MS', 'MA', 'MCA', 'Phd']}\n",
        "df = pd.DataFrame(data)\n",
        "df = pd.DataFrame(data )\n",
        "print(\"First three rows of the data frame:\")\n",
        "print(df.iloc[:3])"
      ],
      "metadata": {
        "colab": {
          "base_uri": "https://localhost:8080/"
        },
        "id": "2fxxOK0UGM8Y",
        "outputId": "3962b17b-f347-48ad-aa33-7977b58d26a9"
      },
      "execution_count": null,
      "outputs": [
        {
          "output_type": "stream",
          "name": "stdout",
          "text": [
            "First three rows of the data frame:\n",
            "      Name  Age       Address Qualification\n",
            "0   Portia   27    California            MS\n",
            "1   Antony   24  Los Aangeles            MA\n",
            "2  Lucifer   22      New York           MCA\n"
          ]
        }
      ]
    },
    {
      "cell_type": "code",
      "source": [
        "#problem 5\n",
        "import pandas as pd\n",
        "import numpy as np\n",
        "data = {'Name':['Portia', 'Antony', 'Lucifer', 'Jane'],\n",
        "        'Age':[27, 24, 22, 32],\n",
        "        'Address':['California', 'Los Aangeles', 'New York', 'Warsaw'],\n",
        "        'Qualification':['MS', 'MA', 'MCA', 'Phd']}\n",
        "\n",
        "\n",
        "df = pd.DataFrame(data )\n",
        "print(\"Select specific columns:\")\n",
        "print(df[['Name', 'Age']])"
      ],
      "metadata": {
        "colab": {
          "base_uri": "https://localhost:8080/"
        },
        "id": "crAlqtqaI1ny",
        "outputId": "4d1d9213-9b04-4539-cb16-8235d26f62f8"
      },
      "execution_count": null,
      "outputs": [
        {
          "output_type": "stream",
          "name": "stdout",
          "text": [
            "Select specific columns:\n",
            "      Name  Age\n",
            "0   Portia   27\n",
            "1   Antony   24\n",
            "2  Lucifer   22\n",
            "3     Jane   32\n"
          ]
        }
      ]
    },
    {
      "cell_type": "code",
      "source": [
        "#problem 6\n",
        "import pandas as pd\n",
        "import numpy as np\n",
        "data = {'Name':['Portia', 'Antony', 'Lucifer', 'Jane'],\n",
        "        'Age':[27, 24, 22, 32],\n",
        "        'Address':['California', 'Los Aangeles', 'New York', 'Warsaw'],\n",
        "        'Qualification':['MS', 'MA', 'MCA', 'Phd']}\n",
        "\n",
        "\n",
        "df = pd.DataFrame(data)\n",
        "print(\"Select specific columns and rows:\")\n",
        "print(df.iloc[[1,2,3], [1, 2]])"
      ],
      "metadata": {
        "colab": {
          "base_uri": "https://localhost:8080/"
        },
        "id": "SbKByYiIJUG_",
        "outputId": "3637eb9f-2f1e-471f-9934-13b1e734eccc"
      },
      "execution_count": null,
      "outputs": [
        {
          "output_type": "stream",
          "name": "stdout",
          "text": [
            "Select specific columns and rows:\n",
            "   Age       Address\n",
            "1   24  Los Aangeles\n",
            "2   22      New York\n",
            "3   32        Warsaw\n"
          ]
        }
      ]
    },
    {
      "cell_type": "code",
      "source": [
        "#problem 7\n",
        "import pandas as pd\n",
        "import numpy as np\n",
        "data = {'Name':['Portia', 'Antony', 'Lucifer', 'Jane'],\n",
        "        'Age':[27, 24, 22, 32],\n",
        "        'Address':['California', 'Los Aangeles', 'New York', 'Warsaw'],\n",
        "        'Qualification':['MS', 'MA', 'MCA', 'Phd']}\n",
        "\n",
        "\n",
        "df = pd.DataFrame(data)\n",
        "print(\"age greater than 22:\")\n",
        "print(df[df['Age'] > 22])"
      ],
      "metadata": {
        "colab": {
          "base_uri": "https://localhost:8080/"
        },
        "id": "jBRDt0j8KrY3",
        "outputId": "ed053515-109e-45ac-b744-07291c4586a4"
      },
      "execution_count": null,
      "outputs": [
        {
          "output_type": "stream",
          "name": "stdout",
          "text": [
            "age greater than 22:\n",
            "     Name  Age       Address Qualification\n",
            "0  Portia   27    California            MS\n",
            "1  Antony   24  Los Aangeles            MA\n",
            "3    Jane   32        Warsaw           Phd\n"
          ]
        }
      ]
    },
    {
      "cell_type": "code",
      "source": [
        "#problem 8\n",
        "import pandas as pd\n",
        "import numpy as np\n",
        "data = {'Name':['Portia', 'Antony', 'Lucifer', 'Jane'],\n",
        "        'Age':[27, 24, 22, 32],\n",
        "        'Address':['California', 'Los Aangeles', 'New York', 'Warsaw'],\n",
        "        'Qualification':['MS', 'MA', 'MCA', 'Phd']}\n",
        "\n",
        "df = pd.DataFrame(data )\n",
        "total_rows=len(df.axes[0])\n",
        "total_cols=len(df.axes[1])\n",
        "print(\"Number of Rows: \"+str(total_rows))\n",
        "print(\"Number of Columns: \"+str(total_cols))"
      ],
      "metadata": {
        "colab": {
          "base_uri": "https://localhost:8080/"
        },
        "id": "Pr-I26uzL-pp",
        "outputId": "3227fa9e-bfab-4b91-b9c9-ce2cce68fcdc"
      },
      "execution_count": null,
      "outputs": [
        {
          "output_type": "stream",
          "name": "stdout",
          "text": [
            "Number of Rows: 4\n",
            "Number of Columns: 4\n"
          ]
        }
      ]
    },
    {
      "cell_type": "code",
      "source": [
        "#problem 9\n",
        "import pandas as pd\n",
        "import numpy as np\n",
        "data = {'Name':['Portia', 'Antony', 'Lucifer', 'Jane'],\n",
        "        'Age':[np.nan, 24, np.nan, 32],\n",
        "        'Address':['California', 'Los Aangeles', 'New York', 'Warsaw'],\n",
        "        'Qualification':['MS', 'MA', 'MCA', 'Phd']}\n",
        "\n",
        "df = pd.DataFrame(data )\n",
        "print(\"Rows where age is missing:\")\n",
        "print(df[df['Age'].isnull()])"
      ],
      "metadata": {
        "colab": {
          "base_uri": "https://localhost:8080/"
        },
        "id": "G74x1AsHMd8E",
        "outputId": "e18147fb-d4fb-48d2-a16c-642c8e14a56e"
      },
      "execution_count": null,
      "outputs": [
        {
          "output_type": "stream",
          "name": "stdout",
          "text": [
            "Rows where age is missing:\n",
            "      Name  Age     Address Qualification\n",
            "0   Portia  NaN  California            MS\n",
            "2  Lucifer  NaN    New York           MCA\n"
          ]
        }
      ]
    },
    {
      "cell_type": "code",
      "source": [
        "#problem 10\n",
        "import pandas as pd\n",
        "import numpy as np\n",
        "data = {'Name':['Portia', 'Antony', 'Lucifer', 'Jane'],\n",
        "        'Age':[np.nan, 24, np.nan, 32],\n",
        "        'Address':['California', 'Los Aangeles', 'New York', 'Warsaw'],\n",
        "        'Qualification':['MS', 'MA', 'MCA', 'Phd'],\n",
        "        'score': [5, np.nan,8,4],\n",
        "        'attempts': [1, 3, 2, 2],\n",
        "        'qualify': ['yes', 'no', 'yes', 'no']}\n",
        "\n",
        "\n",
        "df = pd.DataFrame(data )\n",
        "print(\"Rows where score between 2 and 8 (inclusive):\")\n",
        "print(df[df['score'].between(2, 8)])"
      ],
      "metadata": {
        "colab": {
          "base_uri": "https://localhost:8080/"
        },
        "id": "crBnAFNxMlNV",
        "outputId": "22023cc3-f829-4494-e12c-376d1a0947a8"
      },
      "execution_count": null,
      "outputs": [
        {
          "output_type": "stream",
          "name": "stdout",
          "text": [
            "Rows where score between 2 and 8 (inclusive):\n",
            "      Name   Age     Address Qualification  score  attempts qualify\n",
            "0   Portia   NaN  California            MS    5.0         1     yes\n",
            "2  Lucifer   NaN    New York           MCA    8.0         2     yes\n",
            "3     Jane  32.0      Warsaw           Phd    4.0         2      no\n"
          ]
        }
      ]
    },
    {
      "cell_type": "code",
      "source": [
        "#problem 11\n",
        "import pandas as pd\n",
        "import numpy as np\n",
        "exam_data  = {'name': ['Portia', 'Antony', 'Lucifer', 'Jane', 'Emily', 'Kim', 'Matthew', 'Lara', 'Kevin', 'Jonas'],\n",
        "        'score': [12.5, 9, 16.5, np.nan, 9, 20, 14.5, np.nan, 8, 19],\n",
        "        'attempts': [1, 3, 2, 3, 2, 3, 1, 1, 2, 1],\n",
        "        'qualify': ['yes', 'no', 'yes', 'no', 'no', 'yes', 'yes', 'no', 'no', 'yes']}\n",
        "labels = ['a', 'b', 'c', 'd', 'e', 'f', 'g', 'h', 'i', 'j']\n",
        "df = pd.DataFrame(exam_data , index=labels)\n",
        "print(\"Number of attempts in the examination is less than 2 and score greater than 15 :\")\n",
        "print(df[(df['attempts'] < 2) & (df['score'] > 15)])"
      ],
      "metadata": {
        "id": "N40Y9NKsMrHV",
        "colab": {
          "base_uri": "https://localhost:8080/"
        },
        "outputId": "c97be247-400b-4007-8e18-1bc7e0dc67fe"
      },
      "execution_count": null,
      "outputs": [
        {
          "output_type": "stream",
          "name": "stdout",
          "text": [
            "Number of attempts in the examination is less than 2 and score greater than 15 :\n",
            "    name  score  attempts qualify\n",
            "j  Jonas   19.0         1     yes\n"
          ]
        }
      ]
    },
    {
      "cell_type": "code",
      "source": [
        "#problem 12\n",
        "import pandas as pd\n",
        "import numpy as np\n",
        "exam_data  = {'name': ['Portia', 'Antony', 'Lucifer', 'Jane', 'Emily', 'Kim', 'Matthew', 'Lara', 'Kevin', 'Jonas'],\n",
        "        'score': [12.5, 9, 16.5, np.nan, 9, 20, 14.5, np.nan, 8, 19],\n",
        "        'attempts': [1, 3, 2, 3, 2, 3, 1, 1, 2, 1],\n",
        "        'qualify': ['yes', 'no', 'yes', 'no', 'no', 'yes', 'yes', 'no', 'no', 'yes']}\n",
        "labels = ['a', 'b', 'c', 'd', 'e', 'f', 'g', 'h', 'i', 'j']\n",
        "\n",
        "df = pd.DataFrame(exam_data , index=labels)\n",
        "print(\"\\nOriginal data frame:\")\n",
        "print(df)\n",
        "print(\"\\nChange the score in row 'd' to 11.5:\")\n",
        "df.loc['d', 'score'] = 11.5\n",
        "print(df)"
      ],
      "metadata": {
        "id": "KFKbvzzdMy5l",
        "colab": {
          "base_uri": "https://localhost:8080/"
        },
        "outputId": "d2690558-3557-4f65-9460-04b657a6f2f1"
      },
      "execution_count": null,
      "outputs": [
        {
          "output_type": "stream",
          "name": "stdout",
          "text": [
            "\n",
            "Original data frame:\n",
            "      name  score  attempts qualify\n",
            "a   Portia   12.5         1     yes\n",
            "b   Antony    9.0         3      no\n",
            "c  Lucifer   16.5         2     yes\n",
            "d     Jane    NaN         3      no\n",
            "e    Emily    9.0         2      no\n",
            "f      Kim   20.0         3     yes\n",
            "g  Matthew   14.5         1     yes\n",
            "h     Lara    NaN         1      no\n",
            "i    Kevin    8.0         2      no\n",
            "j    Jonas   19.0         1     yes\n",
            "\n",
            "Change the score in row 'd' to 11.5:\n",
            "      name  score  attempts qualify\n",
            "a   Portia   12.5         1     yes\n",
            "b   Antony    9.0         3      no\n",
            "c  Lucifer   16.5         2     yes\n",
            "d     Jane   11.5         3      no\n",
            "e    Emily    9.0         2      no\n",
            "f      Kim   20.0         3     yes\n",
            "g  Matthew   14.5         1     yes\n",
            "h     Lara    NaN         1      no\n",
            "i    Kevin    8.0         2      no\n",
            "j    Jonas   19.0         1     yes\n"
          ]
        }
      ]
    },
    {
      "cell_type": "code",
      "source": [
        "#problem 13\n",
        "import pandas as pd\n",
        "import numpy as np\n",
        "exam_data  = {'name': ['Portia', 'Antony', 'Lucifer', 'Jane', 'Emily', 'Kim', 'Matthew', 'Lara', 'Kevin', 'Jonas'],\n",
        "        'score': [12.5, 9, 16.5, np.nan, 9, 20, 14.5, np.nan, 8, 19],\n",
        "        'attempts': [1, 3, 2, 3, 2, 3, 1, 1, 2, 1],\n",
        "        'qualify': ['yes', 'no', 'yes', 'no', 'no', 'yes', 'yes', 'no', 'no', 'yes']}\n",
        "labels = ['a', 'b', 'c', 'd', 'e', 'f', 'g', 'h', 'i', 'j']\n",
        "\n",
        "df = pd.DataFrame(exam_data , index=labels)\n",
        "print(\"\\nSum of the examination attempts by the students:\")\n",
        "print(df['attempts'].sum())"
      ],
      "metadata": {
        "id": "2wzlvay0M35I",
        "colab": {
          "base_uri": "https://localhost:8080/"
        },
        "outputId": "a70c3612-1df4-4c85-da14-56cbe4632337"
      },
      "execution_count": null,
      "outputs": [
        {
          "output_type": "stream",
          "name": "stdout",
          "text": [
            "\n",
            "Sum of the examination attempts by the students:\n",
            "19\n"
          ]
        }
      ]
    },
    {
      "cell_type": "code",
      "source": [
        "#problem 14\n",
        "import pandas as pd\n",
        "import numpy as np\n",
        "exam_data  = {'name': ['Portia', 'Antony', 'Lucifer', 'Jane', 'Emily', 'Kim','Matthew', 'Lara', 'Kevin', 'Jonas'],\n",
        "        'score': [12.5, 9, 16.5, np.nan, 9, 20, 14.5, np.nan, 8, 19],\n",
        "        'attempts': [1, 3, 2, 3, 2, 3, 1, 1, 2, 1],\n",
        "        'qualify': ['yes', 'no', 'yes', 'no', 'no', 'yes', 'yes', 'no', 'no', 'yes']}\n",
        "labels = ['a', 'b', 'c', 'd', 'e', 'f', 'g', 'h', 'i', 'j']\n",
        "\n",
        "df = pd.DataFrame(exam_data , index=labels)\n",
        "print(\"\\nMean score for each different student in data frame:\")\n",
        "print(df['score'].mean())"
      ],
      "metadata": {
        "id": "9dxCramPM_6H",
        "colab": {
          "base_uri": "https://localhost:8080/"
        },
        "outputId": "3b5d0f38-9680-4bbe-f3a2-f99af046192e"
      },
      "execution_count": null,
      "outputs": [
        {
          "output_type": "stream",
          "name": "stdout",
          "text": [
            "\n",
            "Mean score for each different student in data frame:\n",
            "13.5625\n"
          ]
        }
      ]
    },
    {
      "cell_type": "code",
      "source": [
        "#problem 15\n",
        "import pandas as pd\n",
        "import numpy as np\n",
        "exam_data  = {'name': ['Portia', 'Antony', 'Lucifer', 'Jane', 'Emily', 'Kim','Mathew', 'Lara', 'Kevin', 'Jonas'],\n",
        "        'score': [12.5, 9, 16.5, np.nan, 9, 20, 14.5, np.nan, 8, 19],\n",
        "        'attempts': [1, 3, 2, 3, 2, 3, 1, 1, 2, 1],\n",
        "        'qualify': ['yes', 'no', 'yes', 'no', 'no', 'yes', 'yes', 'no', 'no', 'yes']}\n",
        "labels = ['a', 'b', 'c', 'd', 'e', 'f', 'g', 'h', 'i', 'j']\n",
        "df = pd.DataFrame(exam_data , index=labels)\n",
        "print(\"Original rows:\")\n",
        "print(df)\n",
        "print(\"\\nAppend a new row:\")\n",
        "df.loc['k'] = [1, 'Suresh', 'yes', 15.5]\n",
        "print(\"Print all records after insert a new record:\")\n",
        "print(df)\n",
        "print(\"\\nDelete the new row and display the original  rows:\")\n",
        "df = df.drop('k')\n",
        "print(df)"
      ],
      "metadata": {
        "id": "dZo9HTYqNE2P",
        "colab": {
          "base_uri": "https://localhost:8080/"
        },
        "outputId": "e92b34fc-b8d3-4c28-a6f9-84f5715d3e26"
      },
      "execution_count": null,
      "outputs": [
        {
          "output_type": "stream",
          "name": "stdout",
          "text": [
            "Original rows:\n",
            "      name  score  attempts qualify\n",
            "a   Portia   12.5         1     yes\n",
            "b   Antony    9.0         3      no\n",
            "c  Lucifer   16.5         2     yes\n",
            "d     Jane    NaN         3      no\n",
            "e    Emily    9.0         2      no\n",
            "f      Kim   20.0         3     yes\n",
            "g   Mathew   14.5         1     yes\n",
            "h     Lara    NaN         1      no\n",
            "i    Kevin    8.0         2      no\n",
            "j    Jonas   19.0         1     yes\n",
            "\n",
            "Append a new row:\n",
            "Print all records after insert a new record:\n",
            "      name   score attempts qualify\n",
            "a   Portia    12.5        1     yes\n",
            "b   Antony     9.0        3      no\n",
            "c  Lucifer    16.5        2     yes\n",
            "d     Jane     NaN        3      no\n",
            "e    Emily     9.0        2      no\n",
            "f      Kim    20.0        3     yes\n",
            "g   Mathew    14.5        1     yes\n",
            "h     Lara     NaN        1      no\n",
            "i    Kevin     8.0        2      no\n",
            "j    Jonas    19.0        1     yes\n",
            "k        1  Suresh      yes    15.5\n",
            "\n",
            "Delete the new row and display the original  rows:\n",
            "      name score attempts qualify\n",
            "a   Portia  12.5        1     yes\n",
            "b   Antony   9.0        3      no\n",
            "c  Lucifer  16.5        2     yes\n",
            "d     Jane   NaN        3      no\n",
            "e    Emily   9.0        2      no\n",
            "f      Kim  20.0        3     yes\n",
            "g   Mathew  14.5        1     yes\n",
            "h     Lara   NaN        1      no\n",
            "i    Kevin   8.0        2      no\n",
            "j    Jonas  19.0        1     yes\n"
          ]
        }
      ]
    },
    {
      "cell_type": "code",
      "source": [
        "#problem 16\n",
        "import pandas as pd\n",
        "import numpy as np\n",
        "\n",
        "exam_data  = {'name': ['Portia', 'Antony', 'Lucifer', 'Jane', 'Emily', 'Kim'],\n",
        "        'score': [12.5, 9, 16.5, np.nan, 9, 20],\n",
        "        'attempts': [1, 3, 2, 3, 2, 3],\n",
        "        'qualify': ['yes', 'no', 'yes', 'no', 'no', 'yes']}\n",
        "labels = ['a', 'b', 'c', 'd', 'e', 'f']\n",
        "\n",
        "df = pd.DataFrame(exam_data , index=labels)\n",
        "print(\"Orginal rows:\")\n",
        "print(df)\n",
        "df.sort_values(by=['name', 'score'], ascending=[False, True])\n",
        "print(\"Sort the data frame first by ‘name’ in descending order, then by ‘score’ in ascending order:\")\n",
        "print(df)"
      ],
      "metadata": {
        "id": "19fPK5qLeRXG",
        "colab": {
          "base_uri": "https://localhost:8080/"
        },
        "outputId": "0b131253-6ef8-40db-ba43-5b682f4712e8"
      },
      "execution_count": null,
      "outputs": [
        {
          "output_type": "stream",
          "name": "stdout",
          "text": [
            "Orginal rows:\n",
            "      name  score  attempts qualify\n",
            "a   Portia   12.5         1     yes\n",
            "b   Antony    9.0         3      no\n",
            "c  Lucifer   16.5         2     yes\n",
            "d     Jane    NaN         3      no\n",
            "e    Emily    9.0         2      no\n",
            "f      Kim   20.0         3     yes\n",
            "Sort the data frame first by ‘name’ in descending order, then by ‘score’ in ascending order:\n",
            "      name  score  attempts qualify\n",
            "a   Portia   12.5         1     yes\n",
            "b   Antony    9.0         3      no\n",
            "c  Lucifer   16.5         2     yes\n",
            "d     Jane    NaN         3      no\n",
            "e    Emily    9.0         2      no\n",
            "f      Kim   20.0         3     yes\n"
          ]
        }
      ]
    },
    {
      "cell_type": "code",
      "source": [
        "#problem 17\n",
        "import pandas as pd\n",
        "import numpy as np\n",
        "\n",
        "exam_data  = {'name': ['Portia', 'Antony', 'Lucifer', 'Jane', 'Emily', 'Kim'],\n",
        "        'score': [12.5, 9, 16.5, np.nan, 9, 20],\n",
        "        'attempts': [1, 3, 2, 3, 2, 3],\n",
        "        'qualify': ['yes', 'no', 'yes', 'no', 'no', 'yes']}\n",
        "labels = ['a', 'b', 'c', 'd', 'e', 'f']\n",
        "\n",
        "df = pd.DataFrame(exam_data , index=labels)\n",
        "print(\"Original rows:\")\n",
        "print(df)\n",
        "print(\"\\nReplace the 'qualify' column contains the values 'yes' and 'no'  with True and  False:\")\n",
        "df['qualify'] = df['qualify'].map({'yes': True, 'no': False})\n",
        "print(df)"
      ],
      "metadata": {
        "id": "FaXixZRDeR-p",
        "colab": {
          "base_uri": "https://localhost:8080/"
        },
        "outputId": "67242fa2-3d8d-4a18-ebb2-00c08c57858d"
      },
      "execution_count": null,
      "outputs": [
        {
          "output_type": "stream",
          "name": "stdout",
          "text": [
            "Original rows:\n",
            "      name  score  attempts qualify\n",
            "a   Portia   12.5         1     yes\n",
            "b   Antony    9.0         3      no\n",
            "c  Lucifer   16.5         2     yes\n",
            "d     Jane    NaN         3      no\n",
            "e    Emily    9.0         2      no\n",
            "f      Kim   20.0         3     yes\n",
            "\n",
            "Replace the 'qualify' column contains the values 'yes' and 'no'  with True and  False:\n",
            "      name  score  attempts  qualify\n",
            "a   Portia   12.5         1     True\n",
            "b   Antony    9.0         3    False\n",
            "c  Lucifer   16.5         2     True\n",
            "d     Jane    NaN         3    False\n",
            "e    Emily    9.0         2    False\n",
            "f      Kim   20.0         3     True\n"
          ]
        }
      ]
    },
    {
      "cell_type": "code",
      "source": [
        "#problem 18\n",
        "import pandas as pd\n",
        "import numpy as np\n",
        "\n",
        "exam_data  = {'name': ['Portia', 'Antony', 'Lucifer', 'Jane', 'Emily', 'Kim'],\n",
        "        'score': [12.5, 9, 16.5, np.nan, 9, 20],\n",
        "        'attempts': [1, 3, 2, 3, 2, 3],\n",
        "        'qualify': ['yes', 'no', 'yes', 'no', 'no', 'yes']}\n",
        "labels = ['a', 'b', 'c', 'd', 'e', 'f']\n",
        "\n",
        "df = pd.DataFrame(exam_data , index=labels)\n",
        "print(\"Original rows:\")\n",
        "print(df)\n",
        "print(\"\\nChange the name 'James' to ‘Suresh’:\")\n",
        "df['name'] = df['name'].replace('James', 'Suresh')\n",
        "print(df)"
      ],
      "metadata": {
        "id": "6P25rTeGeST7",
        "colab": {
          "base_uri": "https://localhost:8080/"
        },
        "outputId": "be2b45a8-bf2c-43bd-c311-2966fef78c16"
      },
      "execution_count": null,
      "outputs": [
        {
          "output_type": "stream",
          "name": "stdout",
          "text": [
            "Original rows:\n",
            "      name  score  attempts qualify\n",
            "a   Portia   12.5         1     yes\n",
            "b   Antony    9.0         3      no\n",
            "c  Lucifer   16.5         2     yes\n",
            "d     Jane    NaN         3      no\n",
            "e    Emily    9.0         2      no\n",
            "f      Kim   20.0         3     yes\n",
            "\n",
            "Change the name 'James' to ‘Suresh’:\n",
            "      name  score  attempts qualify\n",
            "a   Portia   12.5         1     yes\n",
            "b   Antony    9.0         3      no\n",
            "c  Lucifer   16.5         2     yes\n",
            "d     Jane    NaN         3      no\n",
            "e    Emily    9.0         2      no\n",
            "f      Kim   20.0         3     yes\n"
          ]
        }
      ]
    },
    {
      "cell_type": "code",
      "source": [
        "#problem 19\n",
        "import pandas as pd\n",
        "import numpy as np\n",
        "\n",
        "exam_data  = {'name': ['Portia', 'Antony', 'Lucifer', 'Jane', 'Emily', 'Kim'],\n",
        "        'score': [12.5, 9, 16.5, np.nan, 9, 20],\n",
        "        'attempts': [1, 3, 2, 3, 2, 3],\n",
        "        'qualify': ['yes', 'no', 'yes', 'no', 'no', 'yes']}\n",
        "labels = ['a', 'b', 'c', 'd', 'e', 'f']\n",
        "\n",
        "df = pd.DataFrame(exam_data , index=labels)\n",
        "print(\"Original rows:\")\n",
        "print(df)\n",
        "print(\"\\nDelete the 'attempts' column from the data frame:\")\n",
        "df.pop('attempts')\n",
        "print(df)\n"
      ],
      "metadata": {
        "id": "V6Ncx8QSeSYv",
        "colab": {
          "base_uri": "https://localhost:8080/"
        },
        "outputId": "189eac6a-55b7-43d3-a69b-eb4666dff31e"
      },
      "execution_count": null,
      "outputs": [
        {
          "output_type": "stream",
          "name": "stdout",
          "text": [
            "Original rows:\n",
            "      name  score  attempts qualify\n",
            "a   Portia   12.5         1     yes\n",
            "b   Antony    9.0         3      no\n",
            "c  Lucifer   16.5         2     yes\n",
            "d     Jane    NaN         3      no\n",
            "e    Emily    9.0         2      no\n",
            "f      Kim   20.0         3     yes\n",
            "\n",
            "Delete the 'attempts' column from the data frame:\n",
            "      name  score qualify\n",
            "a   Portia   12.5     yes\n",
            "b   Antony    9.0      no\n",
            "c  Lucifer   16.5     yes\n",
            "d     Jane    NaN      no\n",
            "e    Emily    9.0      no\n",
            "f      Kim   20.0     yes\n"
          ]
        }
      ]
    },
    {
      "cell_type": "code",
      "source": [
        "#problem 20\n",
        "import pandas as pd\n",
        "import numpy as np\n",
        "\n",
        "exam_data  = {'name': ['Portia', 'Antony', 'Lucifer', 'Jane', 'Emily', 'Kim'],\n",
        "        'score': [12.5, 9, 16.5, np.nan, 9, 20],\n",
        "        'attempts': [1, 3, 2, 3, 2, 3],\n",
        "        'qualify': ['yes', 'no', 'yes', 'no', 'no', 'yes']}\n",
        "labels = ['a', 'b', 'c', 'd', 'e', 'f']\n",
        "\n",
        "df = pd.DataFrame(exam_data , index=labels)\n",
        "print(\"Original rows:\")\n",
        "print(df)\n",
        "color = ['Red','Blue','Orange','Red','White','White']\n",
        "df['color'] = color\n",
        "print(\"\\nNew DataFrame after inserting the 'color' column\")\n",
        "print(df)"
      ],
      "metadata": {
        "id": "M3KdXrZreSgw",
        "colab": {
          "base_uri": "https://localhost:8080/"
        },
        "outputId": "1f5dcd7b-d9fe-4512-bf02-c7b8bf0febc0"
      },
      "execution_count": null,
      "outputs": [
        {
          "output_type": "stream",
          "name": "stdout",
          "text": [
            "Original rows:\n",
            "      name  score  attempts qualify\n",
            "a   Portia   12.5         1     yes\n",
            "b   Antony    9.0         3      no\n",
            "c  Lucifer   16.5         2     yes\n",
            "d     Jane    NaN         3      no\n",
            "e    Emily    9.0         2      no\n",
            "f      Kim   20.0         3     yes\n",
            "\n",
            "New DataFrame after inserting the 'color' column\n",
            "      name  score  attempts qualify   color\n",
            "a   Portia   12.5         1     yes     Red\n",
            "b   Antony    9.0         3      no    Blue\n",
            "c  Lucifer   16.5         2     yes  Orange\n",
            "d     Jane    NaN         3      no     Red\n",
            "e    Emily    9.0         2      no   White\n",
            "f      Kim   20.0         3     yes   White\n"
          ]
        }
      ]
    },
    {
      "cell_type": "code",
      "source": [
        "#problem 21\n",
        "import pandas as pd\n",
        "import numpy as np\n",
        "exam_data = [{'name':'Kim', 'score':12.5}, {'name':'Jane','score':9}, {'name':'Portia','score':16.5}]\n",
        "df = pd.DataFrame(exam_data)\n",
        "for index, row in df.iterrows():\n",
        "    print(row['name'], row['score'])\n"
      ],
      "metadata": {
        "id": "ZfrZ5iU_eSlK",
        "colab": {
          "base_uri": "https://localhost:8080/"
        },
        "outputId": "657a5028-1a09-4e13-97e4-ea8a6f2d3704"
      },
      "execution_count": null,
      "outputs": [
        {
          "output_type": "stream",
          "name": "stdout",
          "text": [
            "Kim 12.5\n",
            "Jane 9.0\n",
            "Portia 16.5\n"
          ]
        }
      ]
    },
    {
      "cell_type": "code",
      "source": [
        "#problem 22\n",
        "import pandas as pd\n",
        "import numpy as np\n",
        "\n",
        "exam_data  = {'name': ['Portia', 'Antony', 'Lucifer', 'Jane', 'Emily', 'Kim'],\n",
        "        'score': [12.5, 9, 16.5, np.nan, 9, 20],\n",
        "        'attempts': [1, 3, 2, 3, 2, 3],\n",
        "        'qualify': ['yes', 'no', 'yes', 'no', 'no', 'yes']}\n",
        "labels = ['a', 'b', 'c', 'd', 'e', 'f']\n",
        "\n",
        "df = pd.DataFrame(exam_data , index=labels)\n",
        "print(list(df.columns.values))"
      ],
      "metadata": {
        "id": "Uc2yRsCOeSof",
        "colab": {
          "base_uri": "https://localhost:8080/"
        },
        "outputId": "731a6478-248e-4e59-f34f-78222bbfd722"
      },
      "execution_count": null,
      "outputs": [
        {
          "output_type": "stream",
          "name": "stdout",
          "text": [
            "['name', 'score', 'attempts', 'qualify']\n"
          ]
        }
      ]
    },
    {
      "cell_type": "code",
      "source": [
        "#problem 23\n",
        "import pandas as pd\n",
        "d = {'col1': [1, 2, 3], 'col2': [4, 5, 6], 'col3': [7, 8, 9]}\n",
        "df = pd.DataFrame(data=d)\n",
        "print(\"Original DataFrame\")\n",
        "print(df)\n",
        "df.columns = ['Column1', 'Column2', 'Column3']\n",
        "df = df.rename(columns={'col1': 'Column1', 'col2': 'Column2', 'col3': 'Column3'})\n",
        "print(\"New DataFrame after renaming columns:\")\n",
        "print(df)\n"
      ],
      "metadata": {
        "id": "FAwIm0ZQeStM",
        "colab": {
          "base_uri": "https://localhost:8080/"
        },
        "outputId": "17afaaf1-b198-4a1b-ebc6-af0883d28c52"
      },
      "execution_count": null,
      "outputs": [
        {
          "output_type": "stream",
          "name": "stdout",
          "text": [
            "Original DataFrame\n",
            "   col1  col2  col3\n",
            "0     1     4     7\n",
            "1     2     5     8\n",
            "2     3     6     9\n",
            "New DataFrame after renaming columns:\n",
            "   Column1  Column2  Column3\n",
            "0        1        4        7\n",
            "1        2        5        8\n",
            "2        3        6        9\n"
          ]
        }
      ]
    },
    {
      "cell_type": "code",
      "source": [
        "#problem 24\n",
        "import pandas as pd\n",
        "import numpy as np\n",
        "d = {'col1': [1, 4, 3, 4, 5], 'col2': [4, 5, 6, 7, 8], 'col3': [7, 8, 9, 0, 1]}\n",
        "df = pd.DataFrame(data=d)\n",
        "print(\"Original DataFrame\")\n",
        "print(df)\n",
        "print('Rows for colum1 value == 4')\n",
        "print(df.loc[df['col1'] == 4])"
      ],
      "metadata": {
        "id": "XyNdSqb8eS2q",
        "colab": {
          "base_uri": "https://localhost:8080/"
        },
        "outputId": "b76901b1-4658-4329-f1da-a00bc03d1e90"
      },
      "execution_count": null,
      "outputs": [
        {
          "output_type": "stream",
          "name": "stdout",
          "text": [
            "Original DataFrame\n",
            "   col1  col2  col3\n",
            "0     1     4     7\n",
            "1     4     5     8\n",
            "2     3     6     9\n",
            "3     4     7     0\n",
            "4     5     8     1\n",
            "Rows for colum1 value == 4\n",
            "   col1  col2  col3\n",
            "1     4     5     8\n",
            "3     4     7     0\n"
          ]
        }
      ]
    },
    {
      "cell_type": "code",
      "source": [
        "#problem 25\n",
        "\n",
        "import pandas as pd\n",
        "import numpy as np\n",
        "d = {'col1': [1, 4, 3, 4, 5], 'col2': [4, 5, 6, 7, 8], 'col3': [7, 8, 9, 0, 1]}\n",
        "df = pd.DataFrame(data=d)\n",
        "print(\"Original DataFrame\")\n",
        "print(df)\n",
        "print('After altering col1 and col3')\n",
        "df = df[['col3', 'col2', 'col1']]\n",
        "print(df)"
      ],
      "metadata": {
        "id": "JrqXOlNLfcdk",
        "colab": {
          "base_uri": "https://localhost:8080/"
        },
        "outputId": "b1376e58-1775-4510-f9d3-a988c2d22f40"
      },
      "execution_count": null,
      "outputs": [
        {
          "output_type": "stream",
          "name": "stdout",
          "text": [
            "Original DataFrame\n",
            "   col1  col2  col3\n",
            "0     1     4     7\n",
            "1     4     5     8\n",
            "2     3     6     9\n",
            "3     4     7     0\n",
            "4     5     8     1\n",
            "After altering col1 and col3\n",
            "   col3  col2  col1\n",
            "0     7     4     1\n",
            "1     8     5     4\n",
            "2     9     6     3\n",
            "3     0     7     4\n",
            "4     1     8     5\n"
          ]
        }
      ]
    },
    {
      "cell_type": "code",
      "source": [
        "#problem 26\n",
        "import pandas as pd\n",
        "import numpy as np\n",
        "d = {'col1': [1, 4, 3, 4, 5], 'col2': [4, 5, 6, 7, 8], 'col3': [7, 8, 9, 0, 1]}\n",
        "df = pd.DataFrame(data=d)\n",
        "print(\"Original DataFrame\")\n",
        "print(df)\n",
        "print('After add one row:')\n",
        "df2 = {'col1': 10, 'col2': 11, 'col3': 12}\n",
        "df = df.append(df2, ignore_index=True)\n",
        "print(df)"
      ],
      "metadata": {
        "id": "cVbYyaf5fc2v",
        "colab": {
          "base_uri": "https://localhost:8080/"
        },
        "outputId": "704bfab8-4aa2-454e-f797-660390f9dcd0"
      },
      "execution_count": null,
      "outputs": [
        {
          "output_type": "stream",
          "name": "stdout",
          "text": [
            "Original DataFrame\n",
            "   col1  col2  col3\n",
            "0     1     4     7\n",
            "1     4     5     8\n",
            "2     3     6     9\n",
            "3     4     7     0\n",
            "4     5     8     1\n",
            "After add one row:\n",
            "   col1  col2  col3\n",
            "0     1     4     7\n",
            "1     4     5     8\n",
            "2     3     6     9\n",
            "3     4     7     0\n",
            "4     5     8     1\n",
            "5    10    11    12\n"
          ]
        },
        {
          "output_type": "stream",
          "name": "stderr",
          "text": [
            "<ipython-input-24-53955cd1196a>:10: FutureWarning: The frame.append method is deprecated and will be removed from pandas in a future version. Use pandas.concat instead.\n",
            "  df = df.append(df2, ignore_index=True)\n"
          ]
        }
      ]
    },
    {
      "cell_type": "code",
      "source": [
        "#problem 27\n",
        "import pandas as pd\n",
        "import numpy as np\n",
        "d = {'col1': [1, 4, 3, 4, 5], 'col2': [4, 5, 6, 7, 8], 'col3': [7, 8, 9, 0, 1]}\n",
        "df = pd.DataFrame(data=d)\n",
        "print(\"Original DataFrame\")\n",
        "print(df)\n",
        "print('Data from new_file.csv file:')\n",
        "df.to_csv('new_file.csv', sep='\\t', index=False)\n",
        "new_df = pd.read_csv('new_file.csv')\n",
        "print(new_df)"
      ],
      "metadata": {
        "id": "UhSyJLCVfdAW",
        "colab": {
          "base_uri": "https://localhost:8080/"
        },
        "outputId": "74a98a7f-a737-4de8-f50b-1d31d7f42baf"
      },
      "execution_count": null,
      "outputs": [
        {
          "output_type": "stream",
          "name": "stdout",
          "text": [
            "Original DataFrame\n",
            "   col1  col2  col3\n",
            "0     1     4     7\n",
            "1     4     5     8\n",
            "2     3     6     9\n",
            "3     4     7     0\n",
            "4     5     8     1\n",
            "Data from new_file.csv file:\n",
            "  col1\\tcol2\\tcol3\n",
            "0          1\\t4\\t7\n",
            "1          4\\t5\\t8\n",
            "2          3\\t6\\t9\n",
            "3          4\\t7\\t0\n",
            "4          5\\t8\\t1\n"
          ]
        }
      ]
    },
    {
      "cell_type": "code",
      "source": [
        "#problem 28\n",
        "import pandas as pd\n",
        "df1 = pd.DataFrame({'name': ['Portia', 'Antony', 'Lucifer', 'Jane', 'Emily', 'Kim'],\n",
        "'city': ['California', 'Los Angeles', 'California', 'California', 'California', 'Los Angeles']})\n",
        "g1 = df1.groupby([\"city\"]).size().reset_index(name='Number of people')\n",
        "print(g1)"
      ],
      "metadata": {
        "id": "dQPCehcbfdJk",
        "colab": {
          "base_uri": "https://localhost:8080/"
        },
        "outputId": "fc712f9f-844a-4a3c-8a91-7f6cd1a34564"
      },
      "execution_count": null,
      "outputs": [
        {
          "output_type": "stream",
          "name": "stdout",
          "text": [
            "          city  Number of people\n",
            "0   California                 4\n",
            "1  Los Angeles                 2\n"
          ]
        }
      ]
    },
    {
      "cell_type": "code",
      "source": [
        "#problem 29\n",
        "import pandas as pd\n",
        "import numpy as np\n",
        "d = {'col1': [1, 4, 3, 4, 5], 'col2': [4, 5, 6, 7, 8], 'col3': [7, 8, 9, 0, 1]}\n",
        "df = pd.DataFrame(data=d)\n",
        "print(\"Original DataFrame\")\n",
        "print(df)\n",
        "df = df[df.col2 != 5]\n",
        "print(\"New DataFrame\")\n",
        "print(df)"
      ],
      "metadata": {
        "id": "ZeIfRqDPfdTF",
        "colab": {
          "base_uri": "https://localhost:8080/"
        },
        "outputId": "96a464df-6c3f-49c3-9151-dcf728da7606"
      },
      "execution_count": null,
      "outputs": [
        {
          "output_type": "stream",
          "name": "stdout",
          "text": [
            "Original DataFrame\n",
            "   col1  col2  col3\n",
            "0     1     4     7\n",
            "1     4     5     8\n",
            "2     3     6     9\n",
            "3     4     7     0\n",
            "4     5     8     1\n",
            "New DataFrame\n",
            "   col1  col2  col3\n",
            "0     1     4     7\n",
            "2     3     6     9\n",
            "3     4     7     0\n",
            "4     5     8     1\n"
          ]
        }
      ]
    },
    {
      "cell_type": "code",
      "source": [
        "#problem 30\n",
        "import pandas as pd\n",
        "import numpy as np\n",
        "d = {'col1': [1, 4, 3, 4, 5], 'col2': [4, 5, 6, 7, 8], 'col3': [7, 8, 9, 0, 1]}\n",
        "df = pd.DataFrame(data=d)\n",
        "pd.set_option('display.max_rows', 500)\n",
        "pd.set_option('display.max_columns', 500)\n",
        "pd.set_option('display.width', 1000)\n",
        "print(\"Original DataFrame\")\n",
        "print(df)"
      ],
      "metadata": {
        "id": "nn3oKfdNfdcd",
        "colab": {
          "base_uri": "https://localhost:8080/"
        },
        "outputId": "377f000f-6f49-41a5-9f82-f352279998e2"
      },
      "execution_count": null,
      "outputs": [
        {
          "output_type": "stream",
          "name": "stdout",
          "text": [
            "Original DataFrame\n",
            "   col1  col2  col3\n",
            "0     1     4     7\n",
            "1     4     5     8\n",
            "2     3     6     9\n",
            "3     4     7     0\n",
            "4     5     8     1\n"
          ]
        }
      ]
    }
  ]
}